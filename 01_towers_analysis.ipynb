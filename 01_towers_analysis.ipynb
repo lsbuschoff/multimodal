{
 "cells": [
  {
   "cell_type": "code",
   "execution_count": 1,
   "metadata": {},
   "outputs": [],
   "source": [
    "import numpy as np\n",
    "import pandas as pd\n",
    "import matplotlib as mpl\n",
    "import matplotlib.pyplot as plt\n",
    "import seaborn as sns\n",
    "import pyreadr\n",
    "from scipy.stats import pearsonr, spearmanr, kendalltau, fisher_exact, ttest_ind, sem, binom\n",
    "from itertools import combinations\n",
    "from helpers import plot_params"
   ]
  },
  {
   "cell_type": "code",
   "execution_count": 2,
   "metadata": {},
   "outputs": [],
   "source": [
    "%load_ext autoreload\n",
    "%autoreload 2"
   ]
  },
  {
   "cell_type": "markdown",
   "metadata": {},
   "source": [
    "## Load data"
   ]
  },
  {
   "cell_type": "code",
   "execution_count": 3,
   "metadata": {},
   "outputs": [
    {
     "data": {
      "text/html": [
       "<div>\n",
       "<style scoped>\n",
       "    .dataframe tbody tr th:only-of-type {\n",
       "        vertical-align: middle;\n",
       "    }\n",
       "\n",
       "    .dataframe tbody tr th {\n",
       "        vertical-align: top;\n",
       "    }\n",
       "\n",
       "    .dataframe thead th {\n",
       "        text-align: right;\n",
       "    }\n",
       "</style>\n",
       "<table border=\"1\" class=\"dataframe\">\n",
       "  <thead>\n",
       "    <tr style=\"text-align: right;\">\n",
       "      <th></th>\n",
       "      <th>Unnamed: 0</th>\n",
       "      <th>0</th>\n",
       "      <th>1</th>\n",
       "      <th>2</th>\n",
       "      <th>3</th>\n",
       "      <th>4</th>\n",
       "      <th>5</th>\n",
       "      <th>6</th>\n",
       "      <th>7</th>\n",
       "      <th>8</th>\n",
       "      <th>...</th>\n",
       "      <th>97</th>\n",
       "      <th>98</th>\n",
       "      <th>99</th>\n",
       "      <th>100</th>\n",
       "      <th>101</th>\n",
       "      <th>102</th>\n",
       "      <th>103</th>\n",
       "      <th>104</th>\n",
       "      <th>105</th>\n",
       "      <th>106</th>\n",
       "    </tr>\n",
       "  </thead>\n",
       "  <tbody>\n",
       "    <tr>\n",
       "      <th>0</th>\n",
       "      <td>0</td>\n",
       "      <td>1.0</td>\n",
       "      <td>0.0</td>\n",
       "      <td>0.0</td>\n",
       "      <td>0.0</td>\n",
       "      <td>0.0</td>\n",
       "      <td>0.0</td>\n",
       "      <td>0.0</td>\n",
       "      <td>0.0</td>\n",
       "      <td>0.0</td>\n",
       "      <td>...</td>\n",
       "      <td>0.0</td>\n",
       "      <td>0.0</td>\n",
       "      <td>0.0</td>\n",
       "      <td>0.0</td>\n",
       "      <td>0.0</td>\n",
       "      <td>0.0</td>\n",
       "      <td>0.0</td>\n",
       "      <td>0.0</td>\n",
       "      <td>0.0</td>\n",
       "      <td>0.0</td>\n",
       "    </tr>\n",
       "    <tr>\n",
       "      <th>1</th>\n",
       "      <td>1</td>\n",
       "      <td>1.0</td>\n",
       "      <td>1.0</td>\n",
       "      <td>1.0</td>\n",
       "      <td>1.0</td>\n",
       "      <td>1.0</td>\n",
       "      <td>1.0</td>\n",
       "      <td>1.0</td>\n",
       "      <td>1.0</td>\n",
       "      <td>1.0</td>\n",
       "      <td>...</td>\n",
       "      <td>1.0</td>\n",
       "      <td>1.0</td>\n",
       "      <td>0.0</td>\n",
       "      <td>0.0</td>\n",
       "      <td>1.0</td>\n",
       "      <td>1.0</td>\n",
       "      <td>1.0</td>\n",
       "      <td>1.0</td>\n",
       "      <td>1.0</td>\n",
       "      <td>1.0</td>\n",
       "    </tr>\n",
       "    <tr>\n",
       "      <th>2</th>\n",
       "      <td>2</td>\n",
       "      <td>1.0</td>\n",
       "      <td>0.0</td>\n",
       "      <td>0.0</td>\n",
       "      <td>1.0</td>\n",
       "      <td>1.0</td>\n",
       "      <td>1.0</td>\n",
       "      <td>1.0</td>\n",
       "      <td>0.0</td>\n",
       "      <td>1.0</td>\n",
       "      <td>...</td>\n",
       "      <td>0.0</td>\n",
       "      <td>0.0</td>\n",
       "      <td>0.0</td>\n",
       "      <td>0.0</td>\n",
       "      <td>1.0</td>\n",
       "      <td>1.0</td>\n",
       "      <td>1.0</td>\n",
       "      <td>1.0</td>\n",
       "      <td>0.0</td>\n",
       "      <td>0.0</td>\n",
       "    </tr>\n",
       "    <tr>\n",
       "      <th>3</th>\n",
       "      <td>3</td>\n",
       "      <td>0.0</td>\n",
       "      <td>1.0</td>\n",
       "      <td>1.0</td>\n",
       "      <td>1.0</td>\n",
       "      <td>1.0</td>\n",
       "      <td>1.0</td>\n",
       "      <td>0.0</td>\n",
       "      <td>1.0</td>\n",
       "      <td>0.0</td>\n",
       "      <td>...</td>\n",
       "      <td>1.0</td>\n",
       "      <td>1.0</td>\n",
       "      <td>1.0</td>\n",
       "      <td>1.0</td>\n",
       "      <td>1.0</td>\n",
       "      <td>1.0</td>\n",
       "      <td>1.0</td>\n",
       "      <td>1.0</td>\n",
       "      <td>1.0</td>\n",
       "      <td>1.0</td>\n",
       "    </tr>\n",
       "    <tr>\n",
       "      <th>4</th>\n",
       "      <td>4</td>\n",
       "      <td>1.0</td>\n",
       "      <td>0.0</td>\n",
       "      <td>0.0</td>\n",
       "      <td>1.0</td>\n",
       "      <td>1.0</td>\n",
       "      <td>0.0</td>\n",
       "      <td>0.0</td>\n",
       "      <td>0.0</td>\n",
       "      <td>0.0</td>\n",
       "      <td>...</td>\n",
       "      <td>1.0</td>\n",
       "      <td>0.0</td>\n",
       "      <td>0.0</td>\n",
       "      <td>0.0</td>\n",
       "      <td>0.0</td>\n",
       "      <td>1.0</td>\n",
       "      <td>1.0</td>\n",
       "      <td>0.0</td>\n",
       "      <td>0.0</td>\n",
       "      <td>0.0</td>\n",
       "    </tr>\n",
       "  </tbody>\n",
       "</table>\n",
       "<p>5 rows × 108 columns</p>\n",
       "</div>"
      ],
      "text/plain": [
       "   Unnamed: 0    0    1    2    3    4    5    6    7    8  ...   97   98  \\\n",
       "0           0  1.0  0.0  0.0  0.0  0.0  0.0  0.0  0.0  0.0  ...  0.0  0.0   \n",
       "1           1  1.0  1.0  1.0  1.0  1.0  1.0  1.0  1.0  1.0  ...  1.0  1.0   \n",
       "2           2  1.0  0.0  0.0  1.0  1.0  1.0  1.0  0.0  1.0  ...  0.0  0.0   \n",
       "3           3  0.0  1.0  1.0  1.0  1.0  1.0  0.0  1.0  0.0  ...  1.0  1.0   \n",
       "4           4  1.0  0.0  0.0  1.0  1.0  0.0  0.0  0.0  0.0  ...  1.0  0.0   \n",
       "\n",
       "    99  100  101  102  103  104  105  106  \n",
       "0  0.0  0.0  0.0  0.0  0.0  0.0  0.0  0.0  \n",
       "1  0.0  0.0  1.0  1.0  1.0  1.0  1.0  1.0  \n",
       "2  0.0  0.0  1.0  1.0  1.0  1.0  0.0  0.0  \n",
       "3  1.0  1.0  1.0  1.0  1.0  1.0  1.0  1.0  \n",
       "4  0.0  0.0  0.0  1.0  1.0  0.0  0.0  0.0  \n",
       "\n",
       "[5 rows x 108 columns]"
      ]
     },
     "execution_count": 3,
     "metadata": {},
     "output_type": "execute_result"
    }
   ],
   "source": [
    "# Human data we collected\n",
    "human_stability = pd.read_csv('data/tower_human_data.csv')\n",
    "human_stability.head()"
   ]
  },
  {
   "cell_type": "code",
   "execution_count": 4,
   "metadata": {},
   "outputs": [
    {
     "data": {
      "text/html": [
       "<div>\n",
       "<style scoped>\n",
       "    .dataframe tbody tr th:only-of-type {\n",
       "        vertical-align: middle;\n",
       "    }\n",
       "\n",
       "    .dataframe tbody tr th {\n",
       "        vertical-align: top;\n",
       "    }\n",
       "\n",
       "    .dataframe thead th {\n",
       "        text-align: right;\n",
       "    }\n",
       "</style>\n",
       "<table border=\"1\" class=\"dataframe\">\n",
       "  <thead>\n",
       "    <tr style=\"text-align: right;\">\n",
       "      <th></th>\n",
       "      <th>Image</th>\n",
       "      <th>Experiment</th>\n",
       "      <th>GT</th>\n",
       "      <th>GPT-4V</th>\n",
       "      <th>FUYU</th>\n",
       "      <th>ADAPTER</th>\n",
       "      <th>OTTER</th>\n",
       "      <th>CLAUDE-3</th>\n",
       "    </tr>\n",
       "  </thead>\n",
       "  <tbody>\n",
       "    <tr>\n",
       "      <th>0</th>\n",
       "      <td>1</td>\n",
       "      <td>1</td>\n",
       "      <td>White</td>\n",
       "      <td>White</td>\n",
       "      <td>White</td>\n",
       "      <td>White</td>\n",
       "      <td>White</td>\n",
       "      <td>White</td>\n",
       "    </tr>\n",
       "    <tr>\n",
       "      <th>1</th>\n",
       "      <td>3</td>\n",
       "      <td>1</td>\n",
       "      <td>White</td>\n",
       "      <td>White</td>\n",
       "      <td>White</td>\n",
       "      <td>White</td>\n",
       "      <td>White</td>\n",
       "      <td>White</td>\n",
       "    </tr>\n",
       "    <tr>\n",
       "      <th>2</th>\n",
       "      <td>5</td>\n",
       "      <td>1</td>\n",
       "      <td>White</td>\n",
       "      <td>White</td>\n",
       "      <td>White</td>\n",
       "      <td>White</td>\n",
       "      <td>White</td>\n",
       "      <td>White</td>\n",
       "    </tr>\n",
       "    <tr>\n",
       "      <th>3</th>\n",
       "      <td>7</td>\n",
       "      <td>1</td>\n",
       "      <td>White</td>\n",
       "      <td>White</td>\n",
       "      <td>White</td>\n",
       "      <td>White</td>\n",
       "      <td>White</td>\n",
       "      <td>White</td>\n",
       "    </tr>\n",
       "    <tr>\n",
       "      <th>4</th>\n",
       "      <td>18</td>\n",
       "      <td>1</td>\n",
       "      <td>White</td>\n",
       "      <td>White</td>\n",
       "      <td>White</td>\n",
       "      <td>White</td>\n",
       "      <td>White</td>\n",
       "      <td>Gray</td>\n",
       "    </tr>\n",
       "  </tbody>\n",
       "</table>\n",
       "</div>"
      ],
      "text/plain": [
       "   Image  Experiment     GT GPT-4V   FUYU ADAPTER  OTTER CLAUDE-3\n",
       "0      1           1  White  White  White   White  White    White\n",
       "1      3           1  White  White  White   White  White    White\n",
       "2      5           1  White  White  White   White  White    White\n",
       "3      7           1  White  White  White   White  White    White\n",
       "4     18           1  White  White  White   White  White     Gray"
      ]
     },
     "execution_count": 4,
     "metadata": {},
     "output_type": "execute_result"
    }
   ],
   "source": [
    "# Model data we collected\n",
    "subjects = [\"FUYU\", \"OTTER\", \"ADAPTER\", \"GPT-4V\", \"CLAUDE-3\"]\n",
    "models = pd.read_csv(\"data/LERER_RESULTS_NEW.csv\").loc[:, :subjects[-1]]\n",
    "num_seqs = models.Image.unique().shape[0]\n",
    "models.head()"
   ]
  },
  {
   "cell_type": "markdown",
   "metadata": {},
   "source": [
    "### 1. Analyze match to ground truth for color test"
   ]
  },
  {
   "cell_type": "code",
   "execution_count": 5,
   "metadata": {},
   "outputs": [
    {
     "name": "stdout",
     "output_type": "stream",
     "text": [
      "Color, FUYU: 100.0000 %\n",
      "Color, OTTER: 100.0000 %\n",
      "Color, ADAPTER: 98.0000 %\n",
      "Color, GPT-4V: 100.0000 %\n",
      "Color, CLAUDE-3: 100.0000 %\n"
     ]
    }
   ],
   "source": [
    "colors = np.zeros(len(subjects))\n",
    "colors_errs = np.zeros(len(subjects))\n",
    "\n",
    "for ind, subject in enumerate(subjects):  \n",
    "\n",
    "        # We count white, beige and gray as correct\n",
    "        model_answers = models[models.Experiment == 1][subject]\n",
    "        correct = sum(model_answers == \"White\") + sum(model_answers == \"Gray\") + sum(model_answers == \"Beige\")\n",
    "        colors[ind] = (correct / num_seqs)*100\n",
    "        colors_errs[ind] = binom.std(100, correct / num_seqs)\n",
    "        print(f\"Color, {subject}: {colors[ind]:.4f} %\")"
   ]
  },
  {
   "cell_type": "markdown",
   "metadata": {},
   "source": [
    "### 2. Analyze visual understanding: color of boxes from top to bottom"
   ]
  },
  {
   "cell_type": "code",
   "execution_count": 6,
   "metadata": {},
   "outputs": [
    {
     "name": "stdout",
     "output_type": "stream",
     "text": [
      "Trajectory, FUYU: 18.0000 %\n",
      "Trajectory, OTTER: 16.0000 %\n",
      "Trajectory, ADAPTER: 5.0000 %\n",
      "Trajectory, GPT-4V: 98.0000 %\n",
      "Trajectory, CLAUDE-3: 89.0000 %\n"
     ]
    }
   ],
   "source": [
    "topbottom = np.zeros(len(subjects))\n",
    "topbottom_errs = np.zeros(len(subjects))\n",
    "\n",
    "# Loop through subjects\n",
    "for ind, subject in enumerate(subjects):  \n",
    "\n",
    "        # There are some hard sequences where a block is on the floor next to the tower\n",
    "        # We do not remove these here but they are removed in the original study\n",
    "        model_answers = models[models.Experiment == 2][subject]\n",
    "        correct = sum(np.equal(model_answers, models[models.Experiment == 2][\"GT\"]))\n",
    "        topbottom[ind] = (correct / num_seqs)*100\n",
    "        topbottom_errs[ind] = binom.std(100, correct / num_seqs)\n",
    "        print(f\"Trajectory, {subject}: {topbottom[ind]:.4f} %\")"
   ]
  },
  {
   "cell_type": "markdown",
   "metadata": {},
   "source": [
    "### 3. Stability: match to ground truth"
   ]
  },
  {
   "cell_type": "code",
   "execution_count": 7,
   "metadata": {},
   "outputs": [
    {
     "name": "stdout",
     "output_type": "stream",
     "text": [
      "Trajectory, FUYU: 45.0000 %\n",
      "Trajectory, OTTER: 50.0000 %\n",
      "Trajectory, ADAPTER: 49.0000 %\n",
      "Trajectory, GPT-4V: 60.0000 %\n",
      "Trajectory, CLAUDE-3: 58.0000 %\n",
      "Trajectory, Human: 65.6075 %\n"
     ]
    }
   ],
   "source": [
    "stability = np.zeros(len(subjects))\n",
    "stability_errs = np.zeros(len(subjects))\n",
    "\n",
    "# Loop through subjects\n",
    "for ind, subject in enumerate(subjects):  \n",
    "\n",
    "        # There are some hard sequences where a block is on the floor next to the tower\n",
    "        # We do not remove these here but they are removed in the original study\n",
    "        model_answers = models[models.Experiment == 3][subject]\n",
    "        correct = sum(np.equal(model_answers, models[models.Experiment == 3][\"GT\"]))\n",
    "        stability[ind] = (correct / num_seqs)*100\n",
    "        stability_errs[ind] = binom.std(100, correct / num_seqs)\n",
    "        print(f\"Trajectory, {subject}: {stability[ind]:.4f} %\")\n",
    "\n",
    "# Add average human stability and error bars\n",
    "human = np.equal(np.array(human_stability.iloc[:, 1:], dtype=\"int\"), \n",
    "                 np.array(models[models.Experiment == 3][\"GT\"], dtype=\"int\").reshape(-1, 1)).mean()\n",
    "human_errs = binom.std(100, human)\n",
    "stability = np.append(stability, human * 100)\n",
    "stability_errs = np.append(stability_errs, human_errs)\n",
    "print(f\"Trajectory, Human: {stability[-1]:.4f} %\")"
   ]
  },
  {
   "cell_type": "markdown",
   "metadata": {},
   "source": [
    "### 4. Stability: match to human judgements"
   ]
  },
  {
   "cell_type": "code",
   "execution_count": 8,
   "metadata": {},
   "outputs": [
    {
     "name": "stdout",
     "output_type": "stream",
     "text": [
      "FUYU, nan\n",
      "OTTER, 0.0005\n",
      "ADAPTER, nan\n",
      "GPT-4V, 0.2479\n",
      "CLAUDE-3, 0.0240\n",
      "HUMAN, 0.5687\n"
     ]
    },
    {
     "name": "stderr",
     "output_type": "stream",
     "text": [
      "/tmp/ipykernel_1545676/1176177094.py:25: ConstantInputWarning: An input array is constant; the correlation coefficient is not defined.\n",
      "  print(f\"{model}, {spearmanr(temp[:, 0], temp[:, 1]).statistic:.4f}\")\n"
     ]
    }
   ],
   "source": [
    "# Save human answers next to model answers for all models\n",
    "# Output shape here is: (Number of humans * Number of test images, 3) \n",
    "# With 3 being: Model answers repeated number of humans times, All human answers, Human index\n",
    "\n",
    "num_humans = len(human_stability.columns[1:])\n",
    "for model in (subjects + [\"HUMAN\"]):\n",
    "\n",
    "    # Loop through all human subjects\n",
    "    temp = np.zeros((num_humans*num_seqs, 3))\n",
    "    for ind, human in enumerate(human_stability.columns[1:]):\n",
    "\n",
    "        # If array for human to human comparison, save sum over human answers\n",
    "        # This is because we run a binomial regression with brms which requires\n",
    "        # Number of decisions over total number of raters for the formula \n",
    "        if model == \"HUMAN\":\n",
    "            temp[ind*num_seqs:(ind+1)*num_seqs, 0] = human_stability.iloc[:, 1:].sum(axis=1)\n",
    "\n",
    "        # Otherwise, save model answers in first column\n",
    "        else:\n",
    "            temp[ind*num_seqs:(ind+1)*num_seqs, 0] = models[models.Experiment == 3][model].values.astype(float)\n",
    "\n",
    "        # Save individual human answers and individual human id\n",
    "        temp[ind*num_seqs:(ind+1)*num_seqs, 1] = human_stability.loc[:, human].values.astype(float)\n",
    "        temp[ind*num_seqs:(ind+1)*num_seqs, 2] = human\n",
    "    print(f\"{model}, {spearmanr(temp[:, 0], temp[:, 1]).statistic:.4f}\")\n",
    "\n",
    "    # Save to read in R after\n",
    "    temp = pd.DataFrame(temp, columns=[\"Model\", \"Human\", \"Ind\"])\n",
    "    temp.to_csv(f\"dataframes/01_towers/{model}_stability.csv\")"
   ]
  },
  {
   "cell_type": "markdown",
   "metadata": {},
   "source": [
    "##### This next step requires running the R script \"dataframes/01_towers/01_towers_lme.Rmd\" before"
   ]
  },
  {
   "cell_type": "code",
   "execution_count": 8,
   "metadata": {},
   "outputs": [],
   "source": [
    "# Load\n",
    "towers_lmer = pd.read_csv('dataframes/01_towers/01_towers_lmer.csv')\n",
    "\n",
    "# Separate coefficient and re-format CI\n",
    "towers_lmer_coef = towers_lmer.iloc[:,0].values\n",
    "towers_lmer_conf = towers_lmer.iloc[:,1:].values.T"
   ]
  },
  {
   "cell_type": "markdown",
   "metadata": {},
   "source": [
    "## 5. Main plot"
   ]
  },
  {
   "cell_type": "code",
   "execution_count": 9,
   "metadata": {},
   "outputs": [
    {
     "data": {
      "image/png": "[encoded data removed]",
      "text/plain": [
       "<Figure size 2400x900 with 4 Axes>"
      ]
     },
     "metadata": {},
     "output_type": "display_data"
    }
   ],
   "source": [
    "# Init plotting params\n",
    "model_colors = plot_params()\n",
    "\n",
    "# Prepare plot\n",
    "num_subjects = len(subjects)\n",
    "fig, axs = plt.subplots(1, 4, sharey=False, tight_layout=True, figsize=(8,3))  \n",
    "\n",
    "# Plot A\n",
    "axs[0].bar(np.arange(num_subjects), colors, zorder=2, color=model_colors)\n",
    "axs[0].errorbar(np.arange(num_subjects), colors, colors_errs, ls=\"none\", ecolor=\"gray\")\n",
    "axs[0].set_title(\"Background color\\n\", loc=\"right\")\n",
    "axs[0].set_title(\"A\\n\", fontweight='bold', loc='left', fontsize='medium')\n",
    "axs[0].set_ylabel(\"Percentage correct\")\n",
    "axs[0].set_ylim(0, 100)\n",
    "axs[0].set_yticks(np.arange(0, 110, 25))\n",
    "axs[0].set_xticks(np.arange(num_subjects))\n",
    "\n",
    "# Plot B\n",
    "axs[1].bar(np.arange(num_subjects), topbottom, zorder=2, color=model_colors)\n",
    "axs[1].errorbar(np.arange(num_subjects), topbottom, topbottom_errs, ls=\"none\", ecolor=\"gray\")\n",
    "axs[1].set_title(\"Block color\\nfrom top to bottom\", loc=\"center\")\n",
    "axs[1].set_title(\"B\\n\", fontweight='bold', loc='left', fontsize='medium')\n",
    "axs[1].set_ylabel(\"Percentage correct\")\n",
    "axs[1].set_ylim(0, 100)\n",
    "axs[1].set_yticks(np.arange(0, 110, 25))\n",
    "axs[1].set_xticks(np.arange(num_subjects))\n",
    "\n",
    "# Plot C\n",
    "axs[2].bar(np.arange(num_subjects+1), stability, zorder=2, color=model_colors)\n",
    "axs[2].errorbar(np.arange(num_subjects+1), stability, stability_errs, ls=\"none\", ecolor=\"gray\")\n",
    "axs[2].set_title(\"Stability\\n\", loc=\"center\")\n",
    "axs[2].set_title(\"C\\n\", fontweight='bold', loc='left', fontsize='medium')\n",
    "axs[2].set_ylabel(\"Percentage correct\")\n",
    "axs[2].set_ylim(0, 100)\n",
    "axs[2].set_yticks(np.arange(0, 110, 25))\n",
    "axs[2].set_xticks(np.arange(num_subjects+1))\n",
    "axs[2].axhline(50, xmin=0, xmax=num_subjects, color=\"gray\", linestyle=\"-\", linewidth=1.0, zorder=1)\n",
    "\n",
    "# Plot D\n",
    "axs[3].bar(np.arange(num_subjects+1), towers_lmer_coef, color=model_colors)\n",
    "axs[3].errorbar(np.arange(num_subjects+1), towers_lmer_coef, towers_lmer_conf, ls=\"none\", ecolor=\"gray\")\n",
    "axs[3].set_title(\"Stability\\n\", loc=\"center\")\n",
    "axs[3].set_title(\"D\\n\", fontweight='bold', loc='left', fontsize='medium')\n",
    "axs[3].set_ylabel(f\"Pseudo $r$ to humans\")\n",
    "axs[3].set_ylim(-1, 1)\n",
    "#axs[3].set_yticks([-1, -0.5, 0, 0.5, 1])\n",
    "axs[3].set_xticks(np.arange(num_subjects+1))\n",
    "\n",
    "# Despine and set x tick labels afterwards\n",
    "sns.despine(offset=5, trim=True)\n",
    "axs[0].set_xticklabels(subjects, rotation=90)\n",
    "axs[1].set_xticklabels(subjects, rotation=90)\n",
    "axs[2].set_xticklabels(np.hstack((subjects, \"Humans\")), rotation=90)\n",
    "axs[3].set_xticklabels(np.hstack((subjects, \"Humans\")), rotation=90)\n",
    "plt.savefig(\"figures/01_towers_main.pdf\", dpi=300)"
   ]
  },
  {
   "cell_type": "markdown",
   "metadata": {},
   "source": [
    "#### Additional: Are GPT-4V and CLAUDE-3 significantly better at getting stability right than chance?"
   ]
  },
  {
   "cell_type": "code",
   "execution_count": null,
   "metadata": {},
   "outputs": [],
   "source": [
    "# Make contingency table\n",
    "cont00 = np.sum(((models[models[\"Experiment\"] == 3][\"GPT-4V\"]).values.astype(float) == 0) & (models[models[\"Experiment\"] == 3][\"GT\"].values.astype(float) == 0))\n",
    "cont01 = np.sum(((models[models[\"Experiment\"] == 3][\"GPT-4V\"]).values.astype(float) == 0) & (models[models[\"Experiment\"] == 3][\"GT\"].values.astype(float) == 1))\n",
    "cont10 = np.sum(((models[models[\"Experiment\"] == 3][\"GPT-4V\"]).values.astype(float) == 1) & (models[models[\"Experiment\"] == 3][\"GT\"].values.astype(float) == 0))\n",
    "cont11 = np.sum(((models[models[\"Experiment\"] == 3][\"GPT-4V\"]).values.astype(float) == 1) & (models[models[\"Experiment\"] == 3][\"GT\"].values.astype(float) == 1))\n",
    "cont = [[cont00, cont01], [cont10, cont11]]\n",
    "fisher = fisher_exact(cont, alternative=\"greater\")\n",
    "print(f\"Fisher exact test for GPT-4V in stability judgements: {fisher.statistic:.4f}, with p-value: {fisher.pvalue:.4f}\")"
   ]
  },
  {
   "cell_type": "code",
   "execution_count": null,
   "metadata": {},
   "outputs": [],
   "source": [
    "# Make contingency table\n",
    "cont00 = np.sum(((models[models[\"Experiment\"] == 3][\"CLAUDE-3\"]).values.astype(float) == 0) & (models[models[\"Experiment\"] == 3][\"GT\"].values.astype(float) == 0))\n",
    "cont01 = np.sum(((models[models[\"Experiment\"] == 3][\"CLAUDE-3\"]).values.astype(float) == 0) & (models[models[\"Experiment\"] == 3][\"GT\"].values.astype(float) == 1))\n",
    "cont10 = np.sum(((models[models[\"Experiment\"] == 3][\"CLAUDE-3\"]).values.astype(float) == 1) & (models[models[\"Experiment\"] == 3][\"GT\"].values.astype(float) == 0))\n",
    "cont11 = np.sum(((models[models[\"Experiment\"] == 3][\"CLAUDE-3\"]).values.astype(float) == 1) & (models[models[\"Experiment\"] == 3][\"GT\"].values.astype(float) == 1))\n",
    "cont = [[cont00, cont01], [cont10, cont11]]\n",
    "fisher = fisher_exact(cont, alternative=\"greater\")\n",
    "print(f\"Fisher exact test for CLAUDE-3 in stability judgements: {fisher.statistic:.4f}, with p-value: {fisher.pvalue:.4f}\")"
   ]
  },
  {
   "cell_type": "markdown",
   "metadata": {},
   "source": [
    "#### Additional: example trial plot"
   ]
  },
  {
   "cell_type": "code",
   "execution_count": null,
   "metadata": {},
   "outputs": [],
   "source": [
    "# Get answers\n",
    "human_mean = human_stability.iloc[:,1:].mean(axis=1)\n",
    "gpt4v = models.loc[models[\"Experiment\"] == 3, \"GPT-4V\"]\n",
    "gt = models.loc[models[\"Experiment\"] == 3, \"GT\"]\n",
    "\n",
    "# Sort indices based on agreement with ground truth from low to high\n",
    "human_sorted_inds = np.argsort(human_mean - gt.values.astype(float))\n",
    "human_easy_imgs = models.loc[models[\"Experiment\"] == 3, \"Image\"].iloc[human_sorted_inds[:20].values]\n",
    "human_hard_imgs = models.loc[models[\"Experiment\"] == 3, \"Image\"].iloc[human_sorted_inds[-20:].values]\n",
    "\n",
    "# For experiment 3 get images all models got either right or wrong\n",
    "gpt4v = models.loc[models[\"Experiment\"] == 3, \"GPT-4V\"]\n",
    "gpt4v_easy_inds = np.where((gpt4v.values.astype(float) - gt.values.astype(float)) == 0)\n",
    "gpt4v_easy_imgs = models.loc[models[\"Experiment\"] == 3, \"Image\"].iloc[gpt4v_easy_inds]\n",
    "gpt4v_hard_inds = np.where(np.abs(gpt4v.values.astype(float) - gt.values.astype(float)) == 1)\n",
    "gpt4v_hard_imgs = models.loc[models[\"Experiment\"] == 3, \"Image\"].iloc[gpt4v_hard_inds]\n",
    "\n",
    "# Get image numbers\n",
    "easyhumanhardgpt4v = np.intersect1d(human_easy_imgs, gpt4v_hard_imgs)\n",
    "easyhumaneasygpt4v = np.intersect1d(human_easy_imgs, gpt4v_easy_imgs)\n",
    "hardhumanhardgpt4v = np.intersect1d(human_hard_imgs, gpt4v_hard_imgs) \n",
    "hardhumaneasygpt4v = np.intersect1d(human_hard_imgs, gpt4v_easy_imgs) \n",
    "\n",
    "# Get images that are either hard or easy for humans and GPT-4V\n",
    "print(f\"Images that are easy for humans but hard for GPT4-V: {easyhumanhardgpt4v}\")\n",
    "print(f\"Images that are easy for humans and easy for GPT4-V: {easyhumaneasygpt4v}\")\n",
    "print(f\"Images that are hard for humans and hard for GPT4-V: {hardhumanhardgpt4v}\")\n",
    "print(f\"Images that are hard for humans but easy for GPT4-V: {hardhumaneasygpt4v}\")"
   ]
  },
  {
   "cell_type": "code",
   "execution_count": null,
   "metadata": {},
   "outputs": [],
   "source": [
    "# Prepare plot\n",
    "fig, axs = plt.subplots(4, 4, sharey=False, tight_layout=True, figsize=(6,4))  \n",
    "\n",
    "# First column: Easy for humans, hard for models\n",
    "for row in range(4):\n",
    "    axs[row, 0].imshow(plt.imread(f\"eval/images/lerer/img_frame1_{easyhumanhardgpt4v[row]}.png\"))\n",
    "    fall = bool(models.loc[(models[\"Experiment\"] == 3) & (models[\"Image\"] == easyhumanhardgpt4v[row]), \"GT\"].values.astype(int))\n",
    "    axs[row, 0].text(x=20, y=275, s=f\"Fall: {fall}\")\n",
    "    axs[row, 0].axis(\"off\")\n",
    "\n",
    "    axs[row, 1].imshow(plt.imread(f\"eval/images/lerer/img_frame1_{easyhumaneasygpt4v[row]}.png\"))\n",
    "    fall = bool(models.loc[(models[\"Experiment\"] == 3) & (models[\"Image\"] == easyhumaneasygpt4v[row]), \"GT\"].values.astype(int))\n",
    "    axs[row, 1].text(x=20, y=275, s=f\"Fall: {fall}\")\n",
    "    axs[row, 1].axis(\"off\")\n",
    "\n",
    "    axs[row, 2].imshow(plt.imread(f\"eval/images/lerer/img_frame1_{hardhumanhardgpt4v[row]}.png\"))\n",
    "    fall = bool(models.loc[(models[\"Experiment\"] == 3) & (models[\"Image\"] == hardhumanhardgpt4v[row]), \"GT\"].values.astype(int))\n",
    "    axs[row, 2].text(x=20, y=275, s=f\"Fall: {fall}\")\n",
    "    axs[row, 2].axis(\"off\")\n",
    "\n",
    "    axs[row, 3].imshow(plt.imread(f\"eval/images/lerer/img_frame1_{hardhumaneasygpt4v[row]}.png\"))\n",
    "    fall = bool(models.loc[(models[\"Experiment\"] == 3) & (models[\"Image\"] == hardhumaneasygpt4v[row]), \"GT\"].values.astype(int))\n",
    "    axs[row, 3].text(x=20, y=275, s=f\"Fall: {fall}\")\n",
    "    axs[row, 3].axis(\"off\")\n",
    "    \n",
    "\n",
    "# Set column titles\n",
    "axs[0, 0].set_title(\"Humans right\\nGPT4-V wrong\", fontweight=\"bold\")\n",
    "axs[0, 1].set_title(\"Humans right\\nGPT4-V right\", fontweight=\"bold\")\n",
    "axs[0, 2].set_title(\"Humans wrong\\nGPT4-V wrong\", fontweight=\"bold\")\n",
    "axs[0, 3].set_title(\"Humans wrong\\nGPT4-V right\", fontweight=\"bold\")\n",
    "plt.savefig(\"figures/01_towers_examples.pdf\", dpi=300)"
   ]
  }
 ],
 "metadata": {
  "kernelspec": {
   "display_name": "Python 3 (ipykernel)",
   "language": "python",
   "name": "python3"
  },
  "language_info": {
   "codemirror_mode": {
    "name": "ipython",
    "version": 3
   },
   "file_extension": ".py",
   "mimetype": "text/x-python",
   "name": "python",
   "nbconvert_exporter": "python",
   "pygments_lexer": "ipython3",
   "version": "3.12.2"
  }
 },
 "nbformat": 4,
 "nbformat_minor": 4
}
